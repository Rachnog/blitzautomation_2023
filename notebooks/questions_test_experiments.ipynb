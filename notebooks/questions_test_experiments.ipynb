{
 "cells": [
  {
   "cell_type": "code",
   "execution_count": 1,
   "metadata": {},
   "outputs": [],
   "source": [
    "import openai\n",
    "import json\n",
    "import yaml\n",
    "import boto3\n",
    "\n",
    "import sys\n",
    "import os\n",
    "\n",
    "import wandb\n",
    "\n",
    "sys.path.append(os.path.abspath(os.path.join(os.getcwd(), os.pardir)))\n",
    "from src.gpt_wrappers import ChatGPTWithMemory\n",
    "from src.quality_checks import *\n",
    "from src.xml_utils import *"
   ]
  },
  {
   "cell_type": "code",
   "execution_count": 2,
   "metadata": {},
   "outputs": [
    {
     "name": "stderr",
     "output_type": "stream",
     "text": [
      "\u001b[34m\u001b[1mwandb\u001b[0m: Currently logged in as: \u001b[33mrachnogstyle\u001b[0m. Use \u001b[1m`wandb login --relogin`\u001b[0m to force relogin\n"
     ]
    },
    {
     "data": {
      "text/html": [
       "wandb version 0.14.0 is available!  To upgrade, please run:\n",
       " $ pip install wandb --upgrade"
      ],
      "text/plain": [
       "<IPython.core.display.HTML object>"
      ]
     },
     "metadata": {},
     "output_type": "display_data"
    },
    {
     "data": {
      "text/html": [
       "Tracking run with wandb version 0.13.9"
      ],
      "text/plain": [
       "<IPython.core.display.HTML object>"
      ]
     },
     "metadata": {},
     "output_type": "display_data"
    },
    {
     "data": {
      "text/html": [
       "Run data is saved locally in <code>/Users/oleksandrhonchar/Documents/GitHub/blitzautomation_2023/notebooks/wandb/run-20230330_204213-q8mj1q3i</code>"
      ],
      "text/plain": [
       "<IPython.core.display.HTML object>"
      ]
     },
     "metadata": {},
     "output_type": "display_data"
    },
    {
     "data": {
      "text/html": [
       "Syncing run <strong><a href=\"https://wandb.ai/rachnogstyle/blitzautomation2023/runs/q8mj1q3i\" target=\"_blank\">fragrant-elevator-11</a></strong> to <a href=\"https://wandb.ai/rachnogstyle/blitzautomation2023\" target=\"_blank\">Weights & Biases</a> (<a href=\"https://wandb.me/run\" target=\"_blank\">docs</a>)<br/>"
      ],
      "text/plain": [
       "<IPython.core.display.HTML object>"
      ]
     },
     "metadata": {},
     "output_type": "display_data"
    },
    {
     "data": {
      "text/html": [
       " View project at <a href=\"https://wandb.ai/rachnogstyle/blitzautomation2023\" target=\"_blank\">https://wandb.ai/rachnogstyle/blitzautomation2023</a>"
      ],
      "text/plain": [
       "<IPython.core.display.HTML object>"
      ]
     },
     "metadata": {},
     "output_type": "display_data"
    },
    {
     "data": {
      "text/html": [
       " View run at <a href=\"https://wandb.ai/rachnogstyle/blitzautomation2023/runs/q8mj1q3i\" target=\"_blank\">https://wandb.ai/rachnogstyle/blitzautomation2023/runs/q8mj1q3i</a>"
      ],
      "text/plain": [
       "<IPython.core.display.HTML object>"
      ]
     },
     "metadata": {},
     "output_type": "display_data"
    }
   ],
   "source": [
    "# Load config\n",
    "with open('../config.yml') as f:\n",
    "    config = yaml.load(f, Loader=yaml.FullLoader)\n",
    "\n",
    "openai.api_key = config['OPENAI_KEY']\n",
    "\n",
    "s3 = boto3.resource(\n",
    "    's3',\n",
    "    aws_access_key_id=config['AWS_ACCESS_KEY_ID'],\n",
    "    aws_secret_access_key=config['AWS_SECRET_ACCESS_KEY']\n",
    ")\n",
    "\n",
    "run = wandb.init(\n",
    "    project=config['WANDB_PROJECT'], \n",
    "    entity=config['WANDB_ENTITY']\n",
    ")\n",
    "\n",
    "results_table = wandb.Table(\n",
    "    columns=[\n",
    "                \"system_message\", \n",
    "                \"user_message\",\n",
    "                \"assistant_message\",\n",
    "                \"question\",\n",
    "                \"answer\",\n",
    "                \"number_of_questions\",\n",
    "    ]\n",
    ")"
   ]
  },
  {
   "cell_type": "code",
   "execution_count": 3,
   "metadata": {},
   "outputs": [],
   "source": [
    "system_prompt = \\\n",
    "\"\"\"\n",
    "    You are a teacher, educator and practitioner. \n",
    "    Your goal is to prepare questions for the students that are engaging, motivating and challenging.\n",
    "    You can take texts from the internet, books, articles, etc. and use them to create questions.\n",
    "    For each piece of text you can generate set of questions with indicated difficulty level and answers.\n",
    "    You can generate tests with single or multiple choice questions.\n",
    "    You can generate open-ended questions. You can generate debate topics.\n",
    "    You can generate provocative topics for the essays that students can write.\n",
    "    You can generate ideas for practical group projects or even business ideas based on the text.\n",
    "    IMPORTANT: design questions in such a way, that ChatGPT and similar AI systems cannot answer them.\n",
    "\"\"\"\n",
    "\n",
    "example_question = \"\"\n",
    "example_answer = \"\"\n",
    "\n",
    "question = \\\n",
    "    \"\"\"\n",
    "        Here is the input text:\n",
    "\n",
    "        23 Wall Street, also known as the J.P. Morgan Building, is an office building in the Financial District of Manhattan in New York City, at the southeast corner of Wall Street and Broad Street. The four-story building, designed by Trowbridge & Livingston in the Neoclassical style, was constructed between 1913 and 1914. When it was damaged during the Wall Street bombing in 1920, J.P. Morgan & Co. refused to make repairs to defy the bombers. The building was the firm's headquarters until 1989, when the company moved to 60 Wall Street. During the 2000s, there were plans to convert 23 Wall Street into condominiums. The building was sold in 2008 to interests associated with the billionaire industrialist Sam Pa. It has mostly remained empty, although it has been used for events. The building is a New York City designated landmark and is listed on the National Register of Historic Places (NRHP); it is also a contributing property to the NRHP-listed Wall Street Historic District. \n",
    "\n",
    "        Based on the text, generate please:\n",
    "        - 1 debate topic\n",
    "        - 1 social project idea\n",
    "        - 1 business idea\n",
    "\n",
    "        Separate each thing with a new line (\\n\\n) so I can parse it later.\n",
    "    \"\"\""
   ]
  },
  {
   "cell_type": "code",
   "execution_count": 4,
   "metadata": {},
   "outputs": [],
   "source": [
    "chatgpt = ChatGPTWithMemory(system_prompt)\n",
    "chatgpt.initialize_with_question_answer(example_question, example_answer)\n",
    "answer = chatgpt.generate(question)\n",
    "# save_xml_string_to_file(answer, '../data/text.xml')\n",
    "quality_check = TextToQuestionsQualityCheck(answer)\n",
    "\n",
    "results_table.add_data(\n",
    "    *[\n",
    "        system_prompt, example_question, example_answer, question, answer, quality_check.check_number_of_questions()\n",
    "    ]\n",
    ")"
   ]
  },
  {
   "cell_type": "code",
   "execution_count": 7,
   "metadata": {},
   "outputs": [
    {
     "name": "stdout",
     "output_type": "stream",
     "text": [
      "- Debate topic: Should historic buildings like 23 Wall Street be converted into condominiums for modern use or preserved as landmarks for future generations?\n",
      "- Social project idea: Launch a program that works with local schools to bring students on guided tours of historic buildings like 23 Wall Street, along with workshops about the importance of protecting and preserving cultural heritage.\n",
      "- Business idea: Create a startup that uses augmented reality (AR) technology to offer virtual tours of historic sites like 23 Wall Street, allowing people from around the world to experience and appreciate these landmarks without physical travel.\n"
     ]
    },
    {
     "data": {
      "text/plain": [
       "(None, 3)"
      ]
     },
     "execution_count": 7,
     "metadata": {},
     "output_type": "execute_result"
    }
   ],
   "source": [
    "print(answer), quality_check.check_number_of_questions()"
   ]
  },
  {
   "cell_type": "code",
   "execution_count": 6,
   "metadata": {},
   "outputs": [],
   "source": [
    "run.log({\"results_table\": results_table})"
   ]
  }
 ],
 "metadata": {
  "kernelspec": {
   "display_name": "Python 3",
   "language": "python",
   "name": "python3"
  },
  "language_info": {
   "codemirror_mode": {
    "name": "ipython",
    "version": 3
   },
   "file_extension": ".py",
   "mimetype": "text/x-python",
   "name": "python",
   "nbconvert_exporter": "python",
   "pygments_lexer": "ipython3",
   "version": "3.9.6"
  },
  "orig_nbformat": 4
 },
 "nbformat": 4,
 "nbformat_minor": 2
}
