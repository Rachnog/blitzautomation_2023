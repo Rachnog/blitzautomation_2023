{
 "cells": [
  {
   "cell_type": "code",
   "execution_count": 4,
   "metadata": {},
   "outputs": [
    {
     "name": "stderr",
     "output_type": "stream",
     "text": [
      "Warning: No such file or directory while opening https://i.imgur.com/YRj85ba.png\n",
      "Warning: No or improper image=\"https://i.imgur.com/YRj85ba.png\" for node \"s3\"\n",
      "Warning: No such file or directory while opening https://i.imgur.com/Ax4I4tX.png\n",
      "Warning: No or improper image=\"https://i.imgur.com/Ax4I4tX.png\" for node \"sagemaker\"\n",
      "Warning: No such file or directory while opening https://i.imgur.com/yq3LnCO.png\n",
      "Warning: No or improper image=\"https://i.imgur.com/yq3LnCO.png\" for node \"backend\"\n",
      "Warning: No such file or directory while opening https://i.imgur.com/yq3LnCO.png\n",
      "Warning: No or improper image=\"https://i.imgur.com/yq3LnCO.png\" for node \"frontend\"\n",
      "Warning: No such file or directory while opening https://i.imgur.com/5V7J5h5.png\n",
      "Warning: No or improper image=\"https://i.imgur.com/5V7J5h5.png\" for node \"openai\"\n"
     ]
    },
    {
     "data": {
      "text/plain": [
       "'software_architecture.gv.png'"
      ]
     },
     "execution_count": 4,
     "metadata": {},
     "output_type": "execute_result"
    }
   ],
   "source": [
    "from graphviz import Digraph\n",
    "\n",
    "# Initialize the Graph\n",
    "g = Digraph('SoftwareArchitecture', filename='software_architecture.gv', format='png')\n",
    "\n",
    "# Define the nodes\n",
    "g.attr('node', shape='box', style='filled', fontname='helvetica')\n",
    "g.node('s3', 'AWS S3\\nData Lake', shape='ellipse', image='https://i.imgur.com/YRj85ba.png', imagescale='width', width='1.3', labelloc='b')\n",
    "g.node('sagemaker', 'AWS Sagemaker\\nCustom ML Model', image='https://i.imgur.com/Ax4I4tX.png', imagescale='width', width='1.3', labelloc='b')\n",
    "g.node('backend', 'AWS EC2\\nBackend Web App', image='https://i.imgur.com/yq3LnCO.png', imagescale='width', width='1.3', labelloc='b')\n",
    "g.node('frontend', 'AWS EC2\\nFrontend Web App', image='https://i.imgur.com/yq3LnCO.png', imagescale='width', width='1.3', labelloc='b')\n",
    "g.node('openai', '3rd Party API\\nOpenAI', shape='ellipse', image='https://i.imgur.com/5V7J5h5.png', imagescale='width', width='1.3', labelloc='b')\n",
    "\n",
    "# Define the edges\n",
    "g.edges([('s3', 'backend'), ('backend', 'sagemaker'), ('backend', 'openai'), ('frontend', 'backend')])\n",
    "\n",
    "# Save and render the diagram\n",
    "g.view()"
   ]
  },
  {
   "cell_type": "code",
   "execution_count": null,
   "metadata": {},
   "outputs": [],
   "source": []
  }
 ],
 "metadata": {
  "kernelspec": {
   "display_name": "Python 3",
   "language": "python",
   "name": "python3"
  },
  "language_info": {
   "codemirror_mode": {
    "name": "ipython",
    "version": 3
   },
   "file_extension": ".py",
   "mimetype": "text/x-python",
   "name": "python",
   "nbconvert_exporter": "python",
   "pygments_lexer": "ipython3",
   "version": "3.9.6"
  },
  "orig_nbformat": 4
 },
 "nbformat": 4,
 "nbformat_minor": 2
}
