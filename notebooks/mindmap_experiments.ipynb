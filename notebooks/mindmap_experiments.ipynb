{
 "cells": [
  {
   "cell_type": "code",
   "execution_count": 1,
   "metadata": {},
   "outputs": [],
   "source": [
    "import openai\n",
    "import json\n",
    "import yaml\n",
    "import boto3\n",
    "\n",
    "import sys\n",
    "import os\n",
    "\n",
    "import wandb\n",
    "\n",
    "sys.path.append(os.path.abspath(os.path.join(os.getcwd(), os.pardir)))\n",
    "from src.gpt_wrappers import ChatGPTWithMemory\n",
    "from src.quality_checks import *\n",
    "from src.xml_utils import *"
   ]
  },
  {
   "cell_type": "code",
   "execution_count": 2,
   "metadata": {},
   "outputs": [
    {
     "name": "stderr",
     "output_type": "stream",
     "text": [
      "\u001b[34m\u001b[1mwandb\u001b[0m: Currently logged in as: \u001b[33mrachnogstyle\u001b[0m. Use \u001b[1m`wandb login --relogin`\u001b[0m to force relogin\n"
     ]
    },
    {
     "data": {
      "text/html": [
       "wandb version 0.14.0 is available!  To upgrade, please run:\n",
       " $ pip install wandb --upgrade"
      ],
      "text/plain": [
       "<IPython.core.display.HTML object>"
      ]
     },
     "metadata": {},
     "output_type": "display_data"
    },
    {
     "data": {
      "text/html": [
       "Tracking run with wandb version 0.13.9"
      ],
      "text/plain": [
       "<IPython.core.display.HTML object>"
      ]
     },
     "metadata": {},
     "output_type": "display_data"
    },
    {
     "data": {
      "text/html": [
       "Run data is saved locally in <code>/Users/oleksandrhonchar/Documents/GitHub/blitzautomation_2023/notebooks/wandb/run-20230316_124605-swb8sfwd</code>"
      ],
      "text/plain": [
       "<IPython.core.display.HTML object>"
      ]
     },
     "metadata": {},
     "output_type": "display_data"
    },
    {
     "data": {
      "text/html": [
       "Syncing run <strong><a href=\"https://wandb.ai/rachnogstyle/blitzautomation2023/runs/swb8sfwd\" target=\"_blank\">pleasant-donkey-7</a></strong> to <a href=\"https://wandb.ai/rachnogstyle/blitzautomation2023\" target=\"_blank\">Weights & Biases</a> (<a href=\"https://wandb.me/run\" target=\"_blank\">docs</a>)<br/>"
      ],
      "text/plain": [
       "<IPython.core.display.HTML object>"
      ]
     },
     "metadata": {},
     "output_type": "display_data"
    },
    {
     "data": {
      "text/html": [
       " View project at <a href=\"https://wandb.ai/rachnogstyle/blitzautomation2023\" target=\"_blank\">https://wandb.ai/rachnogstyle/blitzautomation2023</a>"
      ],
      "text/plain": [
       "<IPython.core.display.HTML object>"
      ]
     },
     "metadata": {},
     "output_type": "display_data"
    },
    {
     "data": {
      "text/html": [
       " View run at <a href=\"https://wandb.ai/rachnogstyle/blitzautomation2023/runs/swb8sfwd\" target=\"_blank\">https://wandb.ai/rachnogstyle/blitzautomation2023/runs/swb8sfwd</a>"
      ],
      "text/plain": [
       "<IPython.core.display.HTML object>"
      ]
     },
     "metadata": {},
     "output_type": "display_data"
    }
   ],
   "source": [
    "# Load config\n",
    "with open('../config.yml') as f:\n",
    "    config = yaml.load(f, Loader=yaml.FullLoader)\n",
    "\n",
    "openai.api_key = config['OPENAI_KEY']\n",
    "\n",
    "s3 = boto3.resource(\n",
    "    's3',\n",
    "    aws_access_key_id=config['AWS_ACCESS_KEY_ID'],\n",
    "    aws_secret_access_key=config['AWS_SECRET_ACCESS_KEY']\n",
    ")\n",
    "\n",
    "run = wandb.init(\n",
    "    project=config['WANDB_PROJECT'], \n",
    "    entity=config['WANDB_ENTITY']\n",
    ")\n",
    "\n",
    "results_table = wandb.Table(\n",
    "    columns=[\n",
    "                \"system_message\", \n",
    "                \"user_message\",\n",
    "                \"assistant_message\",\n",
    "                \"text_file\",\n",
    "                \"xml_file\",\n",
    "                \"xml_valid\",\n",
    "                \"xml_depth\",\n",
    "                \"xml_width\"\n",
    "    ]\n",
    ")"
   ]
  },
  {
   "attachments": {},
   "cell_type": "markdown",
   "metadata": {},
   "source": [
    "# Define system, assistant and user prompts"
   ]
  },
  {
   "attachments": {},
   "cell_type": "markdown",
   "metadata": {},
   "source": [
    "# "
   ]
  },
  {
   "cell_type": "code",
   "execution_count": 7,
   "metadata": {},
   "outputs": [],
   "source": [
    "system_prompt = \\\n",
    "\"\"\"\n",
    "    You are a mindmaps expert. You are specialist in using XMind app and you excel in XML.\n",
    "    You help humans to structure their knowledge in a compact way so they can remember and learn things faster.\n",
    "    Also, you are a great teacher and you love to share your knowledge with others. \n",
    "    You use mindmaps to speed up learnning process and to share your knowledge with others.\n",
    "    When you are asked to create a mindmap given a text, you analyze the text, select main topics and entities and then you create a mindmap as an XML file.\n",
    "\"\"\"\n",
    "\n",
    "example_question = \\\n",
    "\"\"\"\n",
    "Generate the mindmap from the following text:\n",
    "\n",
    "We spent 6 months making GPT-4 safer and more aligned. GPT-4 is 82% less likely to respond to requests for disallowed content and 40% more likely to produce factual responses than GPT-3.5 on our internal evaluations.\n",
    "We incorporated more human feedback, including feedback submitted by ChatGPT users, to improve GPT-4’s behavior. We also worked with over 50 experts for early feedback in domains including AI safety and security.\n",
    "We’ve applied lessons from real-world use of our previous models into GPT-4’s safety research and monitoring system. Like ChatGPT, we’ll be updating and improving GPT-4 at a regular cadence as more people use it.\n",
    "GPT-4’s advanced reasoning and instruction-following capabilities expedited our safety work. We used GPT-4 to help create training data for model fine-tuning and iterate on classifiers across training, evaluations, and monitoring.\n",
    "\"\"\"\n",
    "\n",
    "example_answer = \\\n",
    "\"\"\"\n",
    "<map>\n",
    "    <node text=\"GPT-4 release\">\n",
    "        <node text=\"Metrics imrpovement\">\n",
    "            <node text=\"82% less disallowed content responses\"></node>\n",
    "            <node text=\"40% more factual\"></node>\n",
    "        </node>\n",
    "        <node text=\"Human feedback and improvement\">\n",
    "            <node text=\"50 experts worked on behavior\"></node>\n",
    "            <node text=\"Improvements based on real use like ChatGPT\"></node>\n",
    "        </node>\n",
    "        <node text=\"Safety research\">\n",
    "            <node text=\"GPT-4 used to create training data\"></node>\n",
    "            <node text=\"Classifiers used during training, evaluation, monitoring\"></node>\n",
    "        </node>\n",
    "    </node>\n",
    "</map>\n",
    "\"\"\"\n",
    "\n",
    "question = \\\n",
    "    \"\"\"\n",
    "        Generate the mindmap from the following text:\n",
    "\n",
    "        Our culture represents the set of ideas, knowledge and traditions that we stand for.\n",
    "        It’s not by chance that we have a strong culture based on specific values. When in 2011, amidst the financial crisis, we left our safe jobs at a big corp to create a place we’d love to work at, we knew how privileged we were.\n",
    "        We tirelessly work to put our skills and expertise to good use. In other words, we make sure we are playing an active role in building a better society.\n",
    "        We have very clear red lines.\n",
    "        Pursuing diversity or open source is smart; Honestly, even more important, we believe it's simply fair.\n",
    "    \"\"\""
   ]
  },
  {
   "attachments": {},
   "cell_type": "markdown",
   "metadata": {},
   "source": [
    "# Run single experiment"
   ]
  },
  {
   "cell_type": "code",
   "execution_count": 8,
   "metadata": {},
   "outputs": [],
   "source": [
    "chatgpt = ChatGPTWithMemory(system_prompt)\n",
    "chatgpt.initialize_with_question_answer(example_question, example_answer)\n",
    "answer = chatgpt.generate(question)\n",
    "save_xml_string_to_file(answer, '../data/text.xml')\n",
    "quality_check = XMLQualityCheck('../data/text.xml')\n",
    "\n",
    "results_table.add_data(\n",
    "    *[\n",
    "        system_prompt, example_question, example_answer, question, answer,\n",
    "        quality_check.check_xml(), quality_check.get_the_depth(), quality_check.get_the_width()\n",
    "    ]\n",
    ")"
   ]
  },
  {
   "attachments": {},
   "cell_type": "markdown",
   "metadata": {},
   "source": [
    "# Upload experiments"
   ]
  },
  {
   "cell_type": "code",
   "execution_count": 9,
   "metadata": {},
   "outputs": [],
   "source": [
    "run.log({\"results_table\": results_table})"
   ]
  }
 ],
 "metadata": {
  "kernelspec": {
   "display_name": "Python 3",
   "language": "python",
   "name": "python3"
  },
  "language_info": {
   "codemirror_mode": {
    "name": "ipython",
    "version": 3
   },
   "file_extension": ".py",
   "mimetype": "text/x-python",
   "name": "python",
   "nbconvert_exporter": "python",
   "pygments_lexer": "ipython3",
   "version": "3.9.6"
  },
  "orig_nbformat": 4
 },
 "nbformat": 4,
 "nbformat_minor": 2
}
