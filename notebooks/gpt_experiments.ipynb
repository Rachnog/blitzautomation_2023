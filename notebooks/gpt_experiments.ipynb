{
 "cells": [
  {
   "attachments": {},
   "cell_type": "markdown",
   "metadata": {},
   "source": [
    "# Using ChatGPT to generate customer data with API"
   ]
  },
  {
   "cell_type": "code",
   "execution_count": 14,
   "metadata": {},
   "outputs": [],
   "source": [
    "import openai\n",
    "import json\n",
    "import yaml\n",
    "import boto3\n",
    "\n",
    "import sys\n",
    "import os\n",
    "\n",
    "sys.path.append(os.path.abspath(os.path.join(os.getcwd(), os.pardir)))"
   ]
  },
  {
   "cell_type": "code",
   "execution_count": 15,
   "metadata": {},
   "outputs": [],
   "source": [
    "from src.gpt_wrappers import ChatGPTWithMemory\n",
    "\n",
    "# Load config\n",
    "with open('../config.yml') as f:\n",
    "    config = yaml.load(f, Loader=yaml.FullLoader)\n",
    "\n",
    "openai.api_key = config['OPENAI_KEY']\n",
    "\n",
    "s3 = boto3.resource(\n",
    "    's3',\n",
    "    aws_access_key_id=config['AWS_ACCESS_KEY_ID'],\n",
    "    aws_secret_access_key=config['AWS_SECRET_ACCESS_KEY']\n",
    ")"
   ]
  },
  {
   "cell_type": "code",
   "execution_count": 16,
   "metadata": {},
   "outputs": [],
   "source": [
    "chatgpt = ChatGPTWithMemory(\n",
    "    \"\"\"\n",
    "        You are a synthetic data generation machine that returns only JSONs on request.\n",
    "        The conversation domain is AI software development consulting services.\n",
    "        You are asked to generate a JSON with the following structure:\n",
    "        [{\n",
    "            \"client_name\": \"John Doe\",\n",
    "            \"client_email\": \"\n",
    "            \"messages_history\": \"2021-01-01: Hello, how are you? | 2021-01-02: I'm fine, thanks. How are you?\",\n",
    "            \"client_sales_pipeline_stage\": \"Prospect\"\n",
    "        }]\n",
    "        You return JSON as array of dictionaries. Only JSON, nothing else as your answer.\n",
    "    \"\"\"\n",
    ")\n",
    "\n",
    "chatgpt.initialize_with_question_answer(\n",
    "            \"\"\"\n",
    "                Generate me 2 pieces of Hubspot-like data with different lead stages\n",
    "            \"\"\",\n",
    "            \"\"\"\n",
    "                [\n",
    "                    {\n",
    "                        \"client_name\": \"Emily Smith\",\n",
    "                        \"client_email\": \"emily.smith@example.com\",\n",
    "                        \"messages_history\": \"2021-01-01: Hi, I'm interested in your AI software development services! | 2021-01-05: Thanks for reaching out! What are your specific needs?\",\n",
    "                        \"client_sales_pipeline_stage\": \"Lead\"\n",
    "                    },\n",
    "                    {\n",
    "                        \"client_name\": \"David Johnson\",\n",
    "                        \"client_email\": \"david.johnson@example.com\",\n",
    "                        \"messages_history\": \"2021-01-01: Could you provide me with more details on your pricing? | 2021-01-08: Sure thing, here's a breakdown of our pricing options.\",\n",
    "                        \"client_sales_pipeline_stage\": \"Opportunity\"\n",
    "                    }\n",
    "                ]\n",
    "            \"\"\"\n",
    ")\n",
    "\n",
    "answer = chatgpt.generate(\n",
    "    \"\"\"\n",
    "        Generate me 5 pieces of Hubspot-like data with different lead stages\n",
    "    \"\"\"\n",
    ")"
   ]
  },
  {
   "cell_type": "code",
   "execution_count": 17,
   "metadata": {},
   "outputs": [
    {
     "name": "stdout",
     "output_type": "stream",
     "text": [
      "        [\n",
      "            {\n",
      "                \"client_name\": \"Emily Smith\",\n",
      "                \"client_email\": \"emily.smith@example.com\",\n",
      "                \"messages_history\": \"2021-01-01: Hi, I'm interested in your AI software development services! | 2021-01-05: Thanks for reaching out! What are your specific needs?\",\n",
      "                \"client_sales_pipeline_stage\": \"Lead\"\n",
      "            },\n",
      "            {\n",
      "                \"client_name\": \"David Johnson\",\n",
      "                \"client_email\": \"david.johnson@example.com\",\n",
      "                \"messages_history\": \"2021-01-01: Could you provide me with more details on your pricing? | 2021-01-08: Sure thing, here's a breakdown of our pricing options.\",\n",
      "                \"client_sales_pipeline_stage\": \"Opportunity\"\n",
      "            },\n",
      "            {\n",
      "                \"client_name\": \"Sarah Lee\",\n",
      "                \"client_email\": \"sarah.lee@example.com\",\n",
      "                \"messages_history\": \"2021-01-02: Hello, I'd like to learn more about your AI software's integration capabilities. | 2021-01-06: Our software integrates seamlessly with a variety of platforms. Let's set up a call to discuss further.\",\n",
      "                \"client_sales_pipeline_stage\": \"Lead\"\n",
      "            },\n",
      "            {\n",
      "                \"client_name\": \"Michael Kim\",\n",
      "                \"client_email\": \"michael.kim@example.com\",\n",
      "                \"messages_history\": \"2021-01-03: I'm interested in purchasing your software, can you provide me with a demo? | 2021-01-08: Absolutely, here's a link to schedule a demo with one of our experts.\",\n",
      "                \"client_sales_pipeline_stage\": \"Opportunity\"\n",
      "            },\n",
      "            {\n",
      "                \"client_name\": \"Jessica Chen\",\n",
      "                \"client_email\": \"jessica.chen@example.com\",\n",
      "                \"messages_history\": \"2021-01-04: I'm interested in learning more about your AI software development process. | 2021-01-07: We follow an agile methodology to ensure flexibility and quick iteration. Let's schedule a call to chat further.\",\n",
      "                \"client_sales_pipeline_stage\": \"Lead\"\n",
      "            }\n",
      "        ]\n"
     ]
    }
   ],
   "source": [
    "print(answer)"
   ]
  },
  {
   "cell_type": "code",
   "execution_count": 18,
   "metadata": {},
   "outputs": [],
   "source": [
    "# parse JSON from a string and save it to a file\n",
    "json_object = json.loads(answer)\n",
    "with open('../data/data.json', 'w') as outfile:\n",
    "    json.dump(json_object, outfile)"
   ]
  }
 ],
 "metadata": {
  "kernelspec": {
   "display_name": "Python 3",
   "language": "python",
   "name": "python3"
  },
  "language_info": {
   "codemirror_mode": {
    "name": "ipython",
    "version": 3
   },
   "file_extension": ".py",
   "mimetype": "text/x-python",
   "name": "python",
   "nbconvert_exporter": "python",
   "pygments_lexer": "ipython3",
   "version": "3.9.6"
  },
  "orig_nbformat": 4
 },
 "nbformat": 4,
 "nbformat_minor": 2
}
